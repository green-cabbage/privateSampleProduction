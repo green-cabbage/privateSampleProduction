{
 "cells": [
  {
   "cell_type": "markdown",
   "id": "a633bcce-5bd5-47a5-a54f-0c8232928bc9",
   "metadata": {},
   "source": [
    "This file priviately reproduces vbf-filtered DY in UL setting FROM GEN-SIM sample from RERECO\n",
    "\n",
    "## NOTE:\n",
    "for whatever reason, the environement we need doesn't work well with jupyter notebook, so please use the bash commands below from a separate terminal (from start to finish)"
   ]
  },
  {
   "cell_type": "markdown",
   "id": "264f9304-a78a-44a8-acb1-debc8373c953",
   "metadata": {},
   "source": [
    "Install CMSSW (we assume voms-proxy-init -voms cms is done)"
   ]
  },
  {
   "cell_type": "code",
   "execution_count": null,
   "id": "129acbd8-21fc-4d51-ba57-e0b62649fdd1",
   "metadata": {
    "scrolled": true
   },
   "outputs": [],
   "source": [
    "%%bash\n",
    "voms-proxy-init -voms cms\n",
    "export SCRAM_ARCH=slc7_amd64_gcc700\n",
    "source /cvmfs/cms.cern.ch/cmsset_default.sh\n",
    "\n",
    "cmsrel CMSSW_10_6_17_patch1\n",
    "cd CMSSW_10_6_17_patch1/src\n",
    "\n",
    "eval `scram runtime -sh`\n",
    "scram b -j8\n",
    "cd ../..\n"
   ]
  },
  {
   "cell_type": "markdown",
   "id": "f24557b0-3aca-4636-a311-9d271093183d",
   "metadata": {},
   "source": [
    "Step 2 Digi"
   ]
  },
  {
   "cell_type": "code",
   "execution_count": null,
   "id": "15427ac2-b91c-4d7e-a38e-dacfbf1408f3",
   "metadata": {},
   "outputs": [],
   "source": [
    "%%bash\n",
    "\n",
    "cmsDriver.py  \\\n",
    "    --python_filename HIG-RunIIFall18wmRerecoDIGI_cfg.py \\\n",
    "    --eventcontent RAWSIM \\\n",
    "    --pileup 2018_25ns_UltraLegacy_PoissonOOTPU \\\n",
    "    --customise Configuration/DataProcessing/Utils.addMonitoring \\\n",
    "    --datatier GEN-SIM-DIGI \\\n",
    "    --fileout file:HIG-RunIIFall18wmRerecoDIGI.root \\\n",
    "    --pileup_input \"dbs:/MinBias_TuneCP5_13TeV-pythia8/RunIISummer20UL18SIM-106X_upgrade2018_realistic_v11_L1v1-v2/GEN-SIM\" \\\n",
    "    --conditions 106X_upgrade2018_realistic_v11_L1v1 \\\n",
    "    --step DIGI,L1,DIGI2RAW \\\n",
    "    --geometry DB:Extended \\\n",
    "    --filein file:/eos/purdue//store/mc/RunIIFall18wmLHEGS/DYJetsToLL_M-105To160_VBFFilter_TuneCP5_PSweights_13TeV-amcatnloFXFX-pythia8/GEN-SIM/VBFPostMGFilter_102X_upgrade2018_realistic_v11_ext1-v1/100000/00E0BCDB-7BFA-EC49-A3EE-A7CEC0EFD0CD.root \\\n",
    "    --era Run2_2018 \\\n",
    "    --runUnscheduled \\\n",
    "    --no_exec \\\n",
    "    --mc \\\n",
    "    -n 1000 \n",
    "\n",
    "time nohup cmsRun HIG-RunIIFall18wmRerecoDIGI_cfg.py &> Step2_out.log"
   ]
  },
  {
   "cell_type": "markdown",
   "id": "5a4a4616-5333-4d76-aa9f-b436fda6eb0d",
   "metadata": {},
   "source": [
    "Step 2.5 HLT (stop here and redo all the previous steps with -n 1000 bc this step requires a seperate and new env (idk why)"
   ]
  },
  {
   "cell_type": "code",
   "execution_count": null,
   "id": "8000473d-0a66-42f9-8f5c-248536361d31",
   "metadata": {},
   "outputs": [],
   "source": [
    "%%bash\n",
    "\n",
    "mkdir HLT_step\n",
    "cd HLT_step/\n",
    "export SCRAM_ARCH=slc7_amd64_gcc700\n",
    "source /cvmfs/cms.cern.ch/cmsset_default.sh\n",
    "\n",
    "cmsrel CMSSW_10_2_16_UL\n",
    "cd CMSSW_10_2_16_UL/src/\n",
    "\n",
    "eval `scram runtime -sh`\n",
    "scram b\n",
    "\n",
    "cd ../../..\n"
   ]
  },
  {
   "cell_type": "code",
   "execution_count": null,
   "id": "22b7fe6b-4463-4c24-9efd-48fb3d29da75",
   "metadata": {},
   "outputs": [],
   "source": [
    "%%bash\n",
    "\n",
    "cmsDriver.py \\\n",
    "    --python_filename HIG-RunIIFall18wmRerecoHLT_cfg.py \\\n",
    "    --eventcontent RAWSIM \\\n",
    "    --customise Configuration/DataProcessing/Utils.addMonitoring \\\n",
    "    --datatier GEN-SIM-RAW \\\n",
    "    --fileout file:HIG-RunIIFall18wmRerecoHLT.root \\\n",
    "    --conditions 102X_upgrade2018_realistic_v15 \\\n",
    "    --customise_commands 'process.source.bypassVersionCheck = cms.untracked.bool(True)' \\\n",
    "    --step HLT:2018v32 \\\n",
    "    --geometry DB:Extended \\\n",
    "    --filein file:HIG-RunIIFall18wmRerecoDIGI.root \\\n",
    "    --era Run2_2018 \\\n",
    "    --no_exec \\\n",
    "    --mc \\\n",
    "    -n 1000\n",
    "\n",
    "time nohup  cmsRun HIG-RunIIFall18wmRerecoHLT_cfg.py &> Step2p5_out.log"
   ]
  },
  {
   "cell_type": "markdown",
   "id": "2fa5e224-d00b-45c0-bc77-747ba7eb3f0e",
   "metadata": {},
   "source": [
    "Step 3 AOD (RECO)"
   ]
  },
  {
   "cell_type": "code",
   "execution_count": null,
   "id": "48299238-d03a-46d0-b352-4715db14212e",
   "metadata": {},
   "outputs": [],
   "source": [
    "%%bash\n",
    "\n",
    "cd CMSSW_10_6_17_patch1/src\n",
    "eval `scram runtime -sh`\n",
    "scram b -j8\n",
    "cd ../..\n",
    "\n",
    "cmsDriver.py \\\n",
    "    --python_filename HIG-RunIIFall18wmRerecoRECO_cfg.py \\\n",
    "    --eventcontent AODSIM \\\n",
    "    --customise Configuration/DataProcessing/Utils.addMonitoring \\\n",
    "    --datatier AODSIM \\\n",
    "    --fileout file:HIG-RunIIFall18wmRerecoRECO.root \\\n",
    "    --conditions 106X_upgrade2018_realistic_v11_L1v1 \\\n",
    "    --step RAW2DIGI,L1Reco,RECO,RECOSIM,EI \\\n",
    "    --geometry DB:Extended \\\n",
    "    --filein file:HIG-RunIIFall18wmRerecoHLT.root \\\n",
    "    --era Run2_2018 \\\n",
    "    --runUnscheduled \\\n",
    "    --no_exec \\\n",
    "    --mc \\\n",
    "    --nThreads 4 \\\n",
    "    -n 1000\n",
    "\n",
    "time nohup  cmsRun HIG-RunIIFall18wmRerecoRECO_cfg.py &> Step3_out.log"
   ]
  },
  {
   "cell_type": "markdown",
   "id": "4b51d5c7-6b73-4dfc-be91-bd7092177323",
   "metadata": {},
   "source": [
    "Step 4 Mini AOD"
   ]
  },
  {
   "cell_type": "code",
   "execution_count": null,
   "id": "bd41887b-5dc0-4fd6-a1de-e43719a03876",
   "metadata": {},
   "outputs": [],
   "source": [
    "%%bash\n",
    "\n",
    "cmsDriver.py \\\n",
    "    --python_filename HIG-RunIIFall18wmRerecoMINI_cfg.py \\\n",
    "    --eventcontent MINIAODSIM \\\n",
    "    --customise Configuration/DataProcessing/Utils.addMonitoring \\\n",
    "    --datatier MINIAODSIM \\\n",
    "    --fileout file:HIG-RunIIFall18wmRerecoMINI.root \\\n",
    "    --conditions 106X_upgrade2018_realistic_v16_L1v1 \\\n",
    "    --step PAT \\\n",
    "    --procModifiers run2_miniAOD_UL \\\n",
    "    --geometry DB:Extended \\\n",
    "    --filein file:HIG-RunIIFall18wmRerecoRECO.root \\\n",
    "    --era Run2_2018 \\\n",
    "    --runUnscheduled \\\n",
    "    --no_exec \\\n",
    "    --mc \\\n",
    "    --nThreads 4 \\\n",
    "    -n 1000\n",
    "\n",
    "time nohup cmsRun HIG-RunIIFall18wmRerecoMINI_cfg.py &> Step4_out.log"
   ]
  },
  {
   "cell_type": "markdown",
   "id": "b2ab5510-a206-486d-bc6d-36e99ef521ae",
   "metadata": {},
   "source": [
    "Step 5 Nano AOD"
   ]
  },
  {
   "cell_type": "code",
   "execution_count": null,
   "id": "a2fd6380-4107-421a-9584-2aa218c77863",
   "metadata": {},
   "outputs": [],
   "source": [
    "%%bash\n",
    "\n",
    "\n",
    "mkdir nano_step\n",
    "cd nano_step\n",
    "source /cvmfs/cms.cern.ch/cmsset_default.sh\n",
    "export SCRAM_ARCH=slc7_amd64_gcc700\n",
    "\n",
    "cmsrel CMSSW_10_6_26\n",
    "cd CMSSW_10_6_26/src/\n",
    "eval `scram runtime -sh`\n",
    "scram b\n",
    "cd ../../..\n"
   ]
  },
  {
   "cell_type": "code",
   "execution_count": null,
   "id": "a46c0e9c-c29d-4e6d-8d5b-d2e76422f965",
   "metadata": {},
   "outputs": [],
   "source": [
    "%%bash\n",
    "\n",
    "cmsDriver.py \\\n",
    "    --python_filename HIG-RunIIFall18wmRerecoNANO_cfg.py \\\n",
    "    --eventcontent NANOAODSIM \\\n",
    "    --customise Configuration/DataProcessing/Utils.addMonitoring \\\n",
    "    --datatier NANOAODSIM \\\n",
    "    --fileout file:HIG-RunIIFall18wmRerecoNANO.root\\\n",
    "    --conditions 102X_upgrade2018_realistic_v15 \\\n",
    "    --customise_commands 'process.source.bypassVersionCheck = cms.untracked.bool(True)' \\\n",
    "    --step NANO \\\n",
    "    --nThreads 4 \\\n",
    "    --filein file:HIG-RunIIFall18wmRerecoMINI.root \\\n",
    "    --era Run2_2018,run2_nanoAOD_102Xv1 \\\n",
    "    --no_exec \\\n",
    "    --mc \\\n",
    "    -n 1000\n",
    "\n",
    "time nohup cmsRun HIG-RunIIFall18wmRerecoNANO_cfg.py &> Step5_out.log"
   ]
  },
  {
   "cell_type": "markdown",
   "id": "02d84ff8-f9ed-41d1-aaa5-1749cbebfa31",
   "metadata": {},
   "source": [
    "Step 5 extra: Nano AOD v12\n",
    "source: https://gitlab.cern.ch/cms-nanoAOD/nanoaod-doc/-/wikis/Releases/NanoAODv12"
   ]
  },
  {
   "cell_type": "code",
   "execution_count": null,
   "id": "e1af988a-4aff-4a2f-a5df-f6e6fc254f4f",
   "metadata": {},
   "outputs": [],
   "source": [
    "# this cell below doesn't get nanoAOD v12\n",
    "%%bash\n",
    "mkdir nanov12_setup\n",
    "cd nanov12_setup\n",
    "export SCRAM_ARCH=el8_amd64_gcc11\n",
    "source /cvmfs/cms.cern.ch/cmsset_default.sh\n",
    "cmsrel CMSSW_13_0_13\n",
    "cd CMSSW_13_0_13/src\n",
    "eval `scram runtime -sh`\n",
    "scram b\n",
    "cd ../..\n",
    "\n",
    "cmsDriver.py \\\n",
    "    --python_filename HIG-RunIIFall18wmRerecoNANO_cfg.py \\\n",
    "    --eventcontent NANOAODSIM \\\n",
    "    --customise Configuration/DataProcessing/Utils.addMonitoring \\\n",
    "    --datatier NANOAODSIM \\\n",
    "    --fileout file:HIG-RunIIFall18wmRerecoNANO.root\\\n",
    "    --conditions auto:phase1_2018_realistic \\\n",
    "    --step NANO \\\n",
    "    --nThreads 2 \\\n",
    "    --filein file:../HIG-RunIIFall18wmRerecoMINI.root \\\n",
    "    --era Run2_2018,run2_nanoAOD_106Xv2\\\n",
    "    --no_exec \\\n",
    "    --mc \\\n",
    "    -n 10\n",
    "\n",
    "cmsRun HIG-RunIIFall18wmRerecoNANO_cfg.py"
   ]
  },
  {
   "cell_type": "code",
   "execution_count": null,
   "id": "cf224b5a-5468-4b89-a34d-893d4f2e880e",
   "metadata": {},
   "outputs": [],
   "source": []
  }
 ],
 "metadata": {
  "kernelspec": {
   "display_name": "Python3 kernel (default)",
   "language": "python",
   "name": "python3"
  },
  "language_info": {
   "codemirror_mode": {
    "name": "ipython",
    "version": 3
   },
   "file_extension": ".py",
   "mimetype": "text/x-python",
   "name": "python",
   "nbconvert_exporter": "python",
   "pygments_lexer": "ipython3",
   "version": "3.10.10"
  }
 },
 "nbformat": 4,
 "nbformat_minor": 5
}
