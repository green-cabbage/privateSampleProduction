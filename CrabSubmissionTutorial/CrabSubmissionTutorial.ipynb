{
 "cells": [
  {
   "cell_type": "code",
   "execution_count": null,
   "id": "257921b4-55f0-4162-b867-c77dceac4ced",
   "metadata": {},
   "outputs": [],
   "source": []
  },
  {
   "cell_type": "code",
   "execution_count": null,
   "id": "dc5e34c6-bd90-40f2-8270-73bda7c84961",
   "metadata": {},
   "outputs": [],
   "source": []
  },
  {
   "cell_type": "markdown",
   "id": "404096e4-6084-4f6d-8ddf-3249d308975d",
   "metadata": {},
   "source": [
    "In the website https://twiki.cern.ch/twiki/bin/view/CMSPublic/WorkBookCRAB3Tutorial#CRAB_configuration_file, \\\n",
    "we have this quotation -> \"We start by generating 100 events in 10 jobs as a test; later we can generate more. \"\n",
    "This strongly implies that \"config.Data.unitsPerJob\" is indeed the number of events each job processes, thus\n",
    "\"config.Data.totalUnits = config.Data.unitsPerJob * NJOBS\" is indeed the total number of events to process. \\\n",
    "(ie if config.Data.totalUnits=100, then we produce 100 events)\\\n",
    "I wonder if this overrides the \"-n\" flag from the config python file\n"
   ]
  },
  {
   "cell_type": "code",
   "execution_count": null,
   "id": "26c8a782-faf9-496b-a38a-e097b185c545",
   "metadata": {},
   "outputs": [],
   "source": []
  }
 ],
 "metadata": {
  "kernelspec": {
   "display_name": "Python3 kernel (default)",
   "language": "python",
   "name": "python3"
  },
  "language_info": {
   "codemirror_mode": {
    "name": "ipython",
    "version": 3
   },
   "file_extension": ".py",
   "mimetype": "text/x-python",
   "name": "python",
   "nbconvert_exporter": "python",
   "pygments_lexer": "ipython3",
   "version": "3.10.10"
  }
 },
 "nbformat": 4,
 "nbformat_minor": 5
}
