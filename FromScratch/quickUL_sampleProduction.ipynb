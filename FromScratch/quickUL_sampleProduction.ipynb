{
 "cells": [
  {
   "cell_type": "markdown",
   "id": "a633bcce-5bd5-47a5-a54f-0c8232928bc9",
   "metadata": {},
   "source": [
    "This file priviately reproduces vbf-filtered DY in UL setting and so that we could later compare it with those produced from GEN-SIM from the RERECO sample\n",
    "\n",
    "## NOTE:\n",
    "for whatever reason, the environement we need doesn't work well with jupyter notebook, so please use the bash commands below from a separate terminal (from start to finish)"
   ]
  },
  {
   "cell_type": "markdown",
   "id": "4334b6ee-aff3-4f70-9a13-c58982b95478",
   "metadata": {},
   "source": [
    "Download the fragment file "
   ]
  },
  {
   "cell_type": "code",
   "execution_count": 2,
   "id": "9a7611ca-25f1-4c0f-b1a3-a7587414f8b1",
   "metadata": {},
   "outputs": [],
   "source": [
    "%%bash\n",
    "curl -s -k https://cms-pdmv-prod.web.cern.ch/mcm/public/restapi/requests/get_fragment/HIG-RunIIFall18wmLHEGS-00419 --retry 3 --create-dirs -o Configuration/GenProduction/python/HIG-RunIIFall18wmLHEGS-00419-fragment.py\n",
    "[ -s Configuration/GenProduction/python/HIG-RunIIFall18wmLHEGS-00419-fragment.py ] || exit $?;"
   ]
  },
  {
   "cell_type": "markdown",
   "id": "264f9304-a78a-44a8-acb1-debc8373c953",
   "metadata": {},
   "source": [
    "Install CMSSW (we assume voms-proxy-init -voms cms is done)"
   ]
  },
  {
   "cell_type": "code",
   "execution_count": null,
   "id": "129acbd8-21fc-4d51-ba57-e0b62649fdd1",
   "metadata": {
    "scrolled": true
   },
   "outputs": [],
   "source": [
    "%%bash\n",
    "export SCRAM_ARCH=slc7_amd64_gcc700\n",
    "source /cvmfs/cms.cern.ch/cmsset_default.sh\n",
    "\n",
    "cmsrel CMSSW_10_6_17_patch1\n",
    "cd CMSSW_10_6_17_patch1/src\n",
    "\n",
    "eval `scram runtime -sh`\n",
    "mv ../../Configuration .\n",
    "scram b -j8\n",
    "cd ../..\n"
   ]
  },
  {
   "cell_type": "markdown",
   "id": "32ac9466-b6a8-4f4a-8600-977a213e50d6",
   "metadata": {},
   "source": [
    "Step 1 Gen Sim"
   ]
  },
  {
   "cell_type": "code",
   "execution_count": null,
   "id": "7e7d9e91-59fb-43c2-94ad-e72346469676",
   "metadata": {},
   "outputs": [],
   "source": [
    "%%bash\n",
    "\n",
    "cmsDriver.py Configuration/GenProduction/python/HIG-RunIIFall18wmLHEGS-00419-fragment.py \\\n",
    "    --python_filename HIG-RunIIFall18wmLHEGS-00419_cfg.py \\\n",
    "    --eventcontent RAWSIM \\\n",
    "    --customise Configuration/DataProcessing/Utils.addMonitoring \\\n",
    "    --datatier GEN-SIM \\\n",
    "    --fileout file:HIG-RunIIFall18wmLHEGS.root \\\n",
    "    --conditions 106X_upgrade2018_realistic_v4 \\\n",
    "    --beamspot Realistic25ns13TeVEarly2018Collision \\\n",
    "    --customise_commands process.source.numberEventsInLuminosityBlock=\"cms.untracked.uint32(250)\" \\\n",
    "    --step LHE,GEN,SIM \\\n",
    "    --geometry DB:Extended \\\n",
    "    --era Run2_2018 \\\n",
    "    --no_exec \\\n",
    "    --mc \\\n",
    "    -n 1000\n",
    "\n",
    "cmsRun HIG-RunIIFall18wmLHEGS-00419_cfg.py\n"
   ]
  },
  {
   "cell_type": "markdown",
   "id": "f24557b0-3aca-4636-a311-9d271093183d",
   "metadata": {},
   "source": [
    "Step 2 Digi"
   ]
  },
  {
   "cell_type": "code",
   "execution_count": null,
   "id": "15427ac2-b91c-4d7e-a38e-dacfbf1408f3",
   "metadata": {},
   "outputs": [],
   "source": [
    "%%bash\n",
    "\n",
    "nohup cmsDriver.py  \\\n",
    "    --python_filename HIG-RunIIFall18wmDIGI_cfg.py \\\n",
    "    --eventcontent RAWSIM \\\n",
    "    --pileup 2018_25ns_UltraLegacy_PoissonOOTPU \\\n",
    "    --customise Configuration/DataProcessing/Utils.addMonitoring \\\n",
    "    --datatier GEN-SIM-DIGI \\\n",
    "    --fileout file:HIG-RunIIFall18wmDIGI.root \\\n",
    "    --pileup_input \"dbs:/MinBias_TuneCP5_13TeV-pythia8/RunIISummer20UL18SIM-106X_upgrade2018_realistic_v11_L1v1-v2/GEN-SIM\" \\\n",
    "    --conditions 106X_upgrade2018_realistic_v11_L1v1 \\\n",
    "    --step DIGI,L1,DIGI2RAW \\\n",
    "    --geometry DB:Extended \\\n",
    "    --filein file:HIG-RunIIFall18wmLHEGS.root \\\n",
    "    --era Run2_2018 \\\n",
    "    --runUnscheduled \\\n",
    "    --no_exec \\\n",
    "    --mc \\\n",
    "    -n 1000\n",
    "cmsRun HIG-RunIIFall18wmDIGI_cfg.py &> Step2Digi_output.log"
   ]
  },
  {
   "cell_type": "markdown",
   "id": "5a4a4616-5333-4d76-aa9f-b436fda6eb0d",
   "metadata": {},
   "source": [
    "Step 2.5 HLT (stop here and redo all the previous steps with -n 1000 bc this step requires a seperate and new env (idk why)"
   ]
  },
  {
   "cell_type": "code",
   "execution_count": null,
   "id": "8000473d-0a66-42f9-8f5c-248536361d31",
   "metadata": {},
   "outputs": [],
   "source": [
    "%%bash\n",
    "\n",
    "mkdir HLT_step\n",
    "cd HLT_step/\n",
    "export SCRAM_ARCH=slc7_amd64_gcc700\n",
    "source /cvmfs/cms.cern.ch/cmsset_default.sh\n",
    "\n",
    "cmsrel CMSSW_10_2_16_UL\n",
    "cd CMSSW_10_2_16_UL/src/\n",
    "eval `scram runtime -sh`\n",
    "scram b\n",
    "\n",
    "cd ../../.."
   ]
  },
  {
   "cell_type": "code",
   "execution_count": null,
   "id": "2f37c1a6-fc40-4df9-8891-176642a8d349",
   "metadata": {},
   "outputs": [],
   "source": [
    "%%bash\n",
    "\n",
    "cmsDriver.py \\\n",
    "    --python_filename HIG-RunIIFall18wmHLT_cfg.py \\\n",
    "    --eventcontent RAWSIM \\\n",
    "    --customise Configuration/DataProcessing/Utils.addMonitoring \\\n",
    "    --datatier GEN-SIM-RAW \\\n",
    "    --fileout file:HIG-RunIIFall18wmHLT.root \\\n",
    "    --conditions 102X_upgrade2018_realistic_v15 \\\n",
    "    --customise_commands 'process.source.bypassVersionCheck = cms.untracked.bool(True)' \\\n",
    "    --step HLT:2018v32 \\\n",
    "    --geometry DB:Extended \\\n",
    "    --filein file:HIG-RunIIFall18wmDIGI.root \\\n",
    "    --era Run2_2018 \\\n",
    "    --no_exec \\\n",
    "    --mc \\\n",
    "    -n 5\n",
    "\n",
    "cmsRun HIG-RunIIFall18wmHLT_cfg.py"
   ]
  },
  {
   "cell_type": "markdown",
   "id": "f14cf959-cc33-4b1f-a8b8-f20ad90f7cd0",
   "metadata": {},
   "source": [
    "Step 3 AOD (RECO)"
   ]
  },
  {
   "cell_type": "code",
   "execution_count": null,
   "id": "51093147-fdef-4cb6-a12f-3c06d8bdc19c",
   "metadata": {},
   "outputs": [],
   "source": [
    "%%bash\n",
    "\n",
    "cd CMSSW_10_6_17_patch1/src\n",
    "eval `scram runtime -sh`\n",
    "scram b -j8\n",
    "cd ../.."
   ]
  },
  {
   "cell_type": "code",
   "execution_count": null,
   "id": "2fc087ea-607d-47e8-83ef-7ede39629465",
   "metadata": {},
   "outputs": [],
   "source": [
    "%%bash\n",
    "\n",
    "cmsDriver.py \\\n",
    "    --python_filename HIG-RunIIFall18wmRECO_cfg.py \\\n",
    "    --eventcontent AODSIM \\\n",
    "    --customise Configuration/DataProcessing/Utils.addMonitoring \\\n",
    "    --datatier AODSIM \\\n",
    "    --fileout file:HIG-RunIIFall18wmRECO.root \\\n",
    "    --conditions 106X_upgrade2018_realistic_v11_L1v1  \\\n",
    "    --step RAW2DIGI,L1Reco,RECO,RECOSIM,EI \\\n",
    "    --geometry DB:Extended \\\n",
    "    --filein file:HIG-RunIIFall18wmHLT.root \\\n",
    "    --era Run2_2018 \\\n",
    "    --runUnscheduled \\\n",
    "    --no_exec \\\n",
    "    --mc \\\n",
    "    -n 5\n",
    "\n",
    "cmsRun HIG-RunIIFall18wmRECO_cfg.py"
   ]
  },
  {
   "cell_type": "markdown",
   "id": "5d944f6f-1caa-416c-977c-83df13f1e97e",
   "metadata": {},
   "source": [
    "Step 4 Mini AOD"
   ]
  },
  {
   "cell_type": "code",
   "execution_count": null,
   "id": "0340063f-01d1-41ce-832f-01f8575c43c3",
   "metadata": {},
   "outputs": [],
   "source": [
    "%%bash\n",
    "# this is the old one that doesn't work\n",
    "\n",
    "cmsDriver.py \\\n",
    "    --python_filename HIG-RunIIFall18wmMINI_cfg.py \\\n",
    "    --eventcontent MINIAODSIM \\\n",
    "    --customise Configuration/DataProcessing/Utils.addMonitoring \\\n",
    "    --datatier MINIAODSIM \\\n",
    "    --fileout file:HIG-RunIIFall18wmMINI.root \\\n",
    "    --conditions 106X_upgrade2018_realistic_v16_L1v1  \\\n",
    "    --step PAT \\\n",
    "    --procModifiers run2_miniAOD_UL \\\n",
    "    --geometry DB:Extended \\\n",
    "    --filein file:HIG-RunIIFall18wmRECO.root \\\n",
    "    --era Run2_2018 \\\n",
    "    --runUnscheduled \\\n",
    "    --no_exec \\\n",
    "    --mc \\\n",
    "    --nThreads 1 \\\n",
    "    -n 10\n",
    "\n",
    "cmsRun HIG-RunIIFall18wmMINI_cfg.py\n"
   ]
  },
  {
   "cell_type": "markdown",
   "id": "c581874e-8b0f-41c6-bb97-a12a637fbb27",
   "metadata": {},
   "source": [
    "Step 5 Nano AOD"
   ]
  },
  {
   "cell_type": "code",
   "execution_count": null,
   "id": "f3d55686-8130-4533-96e7-e13ac72f00f1",
   "metadata": {},
   "outputs": [],
   "source": [
    "%%bash\n",
    "\n",
    "mkdir nano_step\n",
    "cd nano_step\n",
    "source /cvmfs/cms.cern.ch/cmsset_default.sh\n",
    "export SCRAM_ARCH=slc7_amd64_gcc700\n",
    "\n",
    "cmsrel CMSSW_10_6_26\n",
    "cd CMSSW_10_6_26/src/\n",
    "eval `scram runtime -sh`\n",
    "scram b\n",
    "cd ../../.."
   ]
  },
  {
   "cell_type": "code",
   "execution_count": null,
   "id": "1517d08e-92b5-478e-b28b-94ee374ecb00",
   "metadata": {},
   "outputs": [],
   "source": [
    "%%bash\n",
    "\n",
    "cmsDriver.py \\\n",
    "    --python_filename HIG-RunIIFall18wmNANO_cfg.py \\\n",
    "    --eventcontent NANOAODSIM \\\n",
    "    --customise Configuration/DataProcessing/Utils.addMonitoring \\\n",
    "    --datatier NANOAODSIM \\\n",
    "    --fileout file:HIG-RunIIFall18wmNANO.root\\\n",
    "    --conditions 102X_upgrade2018_realistic_v15 \\\n",
    "    --customise_commands 'process.source.bypassVersionCheck = cms.untracked.bool(True)' \\\n",
    "    --step NANO \\\n",
    "    --nThreads 2 \\\n",
    "    --filein file:HIG-RunIIFall18wmMINI.root \\\n",
    "    --era Run2_2018,run2_nanoAOD_102Xv1 \\\n",
    "    --no_exec \\\n",
    "    --mc \\\n",
    "    -n 10\n",
    "\n",
    "cmsRun HIG-RunIIFall18wmNANO_cfg.py"
   ]
  }
 ],
 "metadata": {
  "kernelspec": {
   "display_name": "Python3 kernel (default)",
   "language": "python",
   "name": "python3"
  },
  "language_info": {
   "codemirror_mode": {
    "name": "ipython",
    "version": 3
   },
   "file_extension": ".py",
   "mimetype": "text/x-python",
   "name": "python",
   "nbconvert_exporter": "python",
   "pygments_lexer": "ipython3",
   "version": "3.10.10"
  }
 },
 "nbformat": 4,
 "nbformat_minor": 5
}
