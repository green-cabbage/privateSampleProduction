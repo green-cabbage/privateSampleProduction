{
 "cells": [
  {
   "cell_type": "code",
   "execution_count": 16,
   "id": "97426f84-1c5d-46d5-a712-3ee09fad66de",
   "metadata": {},
   "outputs": [],
   "source": [
    "import ROOT as rt"
   ]
  },
  {
   "cell_type": "code",
   "execution_count": 18,
   "id": "7320175f-fbc9-4e9b-994c-1dff92fb8962",
   "metadata": {},
   "outputs": [
    {
     "name": "stderr",
     "output_type": "stream",
     "text": [
      "Warning in <TClass::Init>: no dictionary for class edm::Hash<1> is available\n",
      "Warning in <TClass::Init>: no dictionary for class edm::ProcessHistory is available\n",
      "Warning in <TClass::Init>: no dictionary for class edm::ProcessConfiguration is available\n",
      "Warning in <TClass::Init>: no dictionary for class edm::ParameterSetBlob is available\n",
      "Warning in <TClass::Init>: no dictionary for class pair<edm::Hash<1>,edm::ParameterSetBlob> is available\n"
     ]
    }
   ],
   "source": [
    "file = rt.TFile.Open(\"HIG-RunIIFall18wmNANO.root\")\n",
    "# file = rt.TFile.Open(\"./nanoV12_setup/HIG-RunIIFall18wmNANO.root\")"
   ]
  },
  {
   "cell_type": "code",
   "execution_count": 19,
   "id": "34d885ed-ce5e-4d4b-9c35-d8438eaab41b",
   "metadata": {},
   "outputs": [
    {
     "name": "stdout",
     "output_type": "stream",
     "text": [
      "OBJ: TTree\tEvents\tEvents : 0 at: 0x55893779f160\n"
     ]
    }
   ],
   "source": [
    "file[\"Events\"].ls()"
   ]
  },
  {
   "cell_type": "code",
   "execution_count": 21,
   "id": "31e14e44-68a9-4612-8c91-aa2bf81fc6f7",
   "metadata": {},
   "outputs": [],
   "source": [
    "evnt_tree = file[\"Events\"]\n",
    "for entry in evnt_tree:\n",
    "    print(entry)\n",
    "    # entry.Print()\n",
    "    # print(entry.ChsMET_pt)\n",
    "    # bsConstrainedChi2\n",
    "    # print(entry.Muon_bsConstrainedChi2)\n",
    "    # print(entry.Muon_pt)\n",
    "    "
   ]
  },
  {
   "cell_type": "code",
   "execution_count": 1,
   "id": "9900ab98-bca6-4877-be72-7accb163195f",
   "metadata": {},
   "outputs": [],
   "source": [
    "import uproot\n",
    "\n",
    "file = uproot.open(\"HIG-RunIIFall18wmNANO.root\")\n",
    "# file = uproot.open(\"HIG-RunIIFall18wmMINI.root\")"
   ]
  },
  {
   "cell_type": "code",
   "execution_count": 2,
   "id": "980f6a88-013c-403d-a7c8-b483141eca27",
   "metadata": {
    "scrolled": true
   },
   "outputs": [
    {
     "data": {
      "text/plain": [
       "['run', 'luminosityBlock', 'event']"
      ]
     },
     "execution_count": 2,
     "metadata": {},
     "output_type": "execute_result"
    }
   ],
   "source": [
    "file[\"Events\"].keys()\n",
    "# file.keys()\n",
    "# file[\"Events\"][\"BranchListIndexes\"].array()"
   ]
  },
  {
   "cell_type": "code",
   "execution_count": 42,
   "id": "3dfa96bb-b3a4-457b-924b-37d95ed04539",
   "metadata": {},
   "outputs": [
    {
     "data": {
      "text/html": [
       "<pre>[0,\n",
       " 0,\n",
       " 0,\n",
       " 0,\n",
       " 0]\n",
       "----------------\n",
       "type: 5 * uint32</pre>"
      ],
      "text/plain": [
       "<Array [0, 0, 0, 0, 0] type='5 * uint32'>"
      ]
     },
     "execution_count": 42,
     "metadata": {},
     "output_type": "execute_result"
    }
   ],
   "source": [
    "file[\"Events\"][\"nElectron\"].array()\n"
   ]
  },
  {
   "cell_type": "code",
   "execution_count": null,
   "id": "abc948d7-1441-443e-a95b-846336164f53",
   "metadata": {},
   "outputs": [],
   "source": []
  }
 ],
 "metadata": {
  "kernelspec": {
   "display_name": "Python [conda env:root632]",
   "language": "python",
   "name": "conda-env-root632-py"
  },
  "language_info": {
   "codemirror_mode": {
    "name": "ipython",
    "version": 3
   },
   "file_extension": ".py",
   "mimetype": "text/x-python",
   "name": "python",
   "nbconvert_exporter": "python",
   "pygments_lexer": "ipython3",
   "version": "3.12.4"
  }
 },
 "nbformat": 4,
 "nbformat_minor": 5
}
